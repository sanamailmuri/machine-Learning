{
  "nbformat": 4,
  "nbformat_minor": 0,
  "metadata": {
    "colab": {
      "provenance": []
    },
    "kernelspec": {
      "name": "python3",
      "display_name": "Python 3"
    },
    "language_info": {
      "name": "python"
    }
  },
  "cells": [
    {
      "cell_type": "markdown",
      "source": [
        "1.**What is a Decision Tree, and how does it work?**\n",
        "\n",
        "A Decision Tree is a supervised machine learning algorithm used for both classification and regression tasks. It models decisions and their possible consequences as a tree-like structure consisting of nodes:\n",
        "\n",
        "Root Node: Represents the entire dataset, which is then split into subsets.\n",
        "\n",
        "Internal Nodes: Represent tests on attributes.\n",
        "\n",
        "Branches: Represent outcomes of the test.\n",
        "\n",
        "Leaf Nodes: Represent the final output (class label or continuous value).\n",
        "\n",
        "How it works:\n",
        "\n",
        "Starting from the root node, the tree splits the dataset based on the attribute that best separates the classes (or predicts the target).\n",
        "\n",
        "Splitting continues recursively until stopping criteria are met (pure nodes, max depth, min samples, etc.).\n",
        "\n",
        "During prediction, the input traverses the tree from the root to a leaf based on attribute tests, outputting the leaf node’s label or value.\n",
        "\n",
        "2.**What are impurity measures in Decision Trees?**\n",
        "\n",
        "Impurity measures quantify how mixed or \"impure\" a dataset is regarding the target variable at a node.\n",
        "\n",
        "In classification, impurity measures help decide how to split data to create the purest possible subsets (ideally with samples of a single class).\n",
        "\n",
        "Common impurity measures:\n",
        "\n",
        "Gini Impurity\n",
        "\n",
        "Entropy\n",
        "\n",
        "Classification Error\n",
        "\n",
        "Impurity is zero when all samples belong to one class.\n",
        "\n",
        "3. **What is the mathematical formula for Gini Impurity?**\n",
        "For a node\n",
        "𝑡\n",
        "\n",
        "![3.png](data:image/png;base64,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)\n",
        "\n",
        "It measures the probability of incorrectly classifying a randomly chosen element from the node if it was labeled randomly according to the class distribution.\n",
        "\n",
        "4. **What is the mathematical formula for Entropy?**\n",
        "\n",
        "Entropy for node\n",
        "𝑡\n",
        "\n",
        "![4.png](data:image/png;base64,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)\n",
        "\n",
        "Entropy measures the disorder or impurity — zero entropy means the node is pure.\n",
        "\n",
        "5. **What is Information Gain, and how is it used in Decision Trees?**\n",
        "\n",
        "Information Gain (IG) measures the reduction in entropy after a dataset is split on an attribute. It helps choose the best attribute to split at each node.\n",
        "\n",
        "\n",
        "For attribute\n",
        "\n",
        "![5.png](data:image/png;base64,iVBORw0KGgoAAAANSUhEUgAAAXwAAABKCAYAAAC4s+/OAAAAAXNSR0IArs4c6QAAAARnQU1BAACxjwv8YQUAAAAJcEhZcwAADsMAAA7DAcdvqGQAABeVSURBVHhe7Z0JtFXTG8C38EdkCO+RniGSsVKmBmVsQKYypDShkqbVKIuWpIRUhEKJiihJGgyZklKSypDUkiIKSalk7PzPb3f2e+edd84dz33vvnu/31pn3Xv3vefcc/bZ59vf/vb3fXsPy0YJgiAIGU8Z51UQBEHIcETgC4IgZAki8AVBELIEEfiCIAhZggh8QRCELEEEviAIQpYgAl8QBCFLEIEvCIKQJYjAFwRByBJE4AuCkBD//POP+uOPP5xPxQOJAbZv365fhfgRgS8IQkJ8+eWXatKkSc6n4oEOZvjw4cXe0WQKIvAFQQid8ePHq6OPPlodeOCB+VulSpXyy4444gjVpUsX9dNPPzl7CMWBCHxBEEKnVatWauXKler8889Xubm56rPPPlNr1qxR3333nfr999/V+++/r5YuXaoaNWqkvv/+e2cvIdWIwBcEISX89ttvatWqVapatWpao3dz0kknqaeeekpt2rRJPfLII2KTLyZE4AuCkBIQ9hs2bFBVq1ZV++67r1NawDHHHKNOP/109cEHH6jNmzc7pUIqEYEvCEJKWLZsmX4977zz9GsQmHj+/PNP55OQSkTgC4IQOgjw+fPnq5ycHHXcccc5pYXZsWOHWr9+vSpTpozac889nVIhlYjAFwQhdDDRfPXVV772e8OPP/6ovXQOP/xwX5OPED4i8AVBCJ2vv/5aa+9B9nv49NNP1c6dO9XZZ5+tDj74YKdUSCUi8AUhRD7//HNVoUKFfN/zQw89VJ1yyikxbV6/de+Wl5enVqxY4fxTehPNfo+gnzFjhtpvv/1UixYtnFIh1YjAF4QQOe2001TPnj2dT0oL/JkzZ2pBHW0zPupseLcsXLhQ9e/fP98GvnXrVjV9+nT9Pp2JxX7/3nvvqblz56p+/fpps4+BfbHtG0ij8N9//zmfhGQRgS8IIbLHHnuoW2+9VQccwcaNG1X37t21EI+H/fffX2v9vXr10toy2jDCc+rUqernn392fpWe/Prrr+qLL74ItN9j7rnjjjtUy5Yt1e23367rDAjEevDBB9U111yjPv74Y526gTp499139fdC8qS1wKenLy3uWjzQJJPKRLiueAVWJDK5rgDzy4gRI/KFHVGlzzzzTMLBRQjE+vXr6+NwzFdffdX5Jj1hstbP/578N88++6y68MIL1VVXXaUefvhhtffee+vv/v33X+2P37x5c/XXX3/pMoT9ddddp98L4VBsAp9Ze3pqhrcMXU3jp5xoOy+EYqPd/P33305JeoB28vjjjxfpiFavXq06duwYqmBMB7ge7gPXFxaZWlduyBvz0EMPaZdDuOeee7TAToZDDjlEjRo1Si1ZsiQt6+7FF1/U142GzvNNBK17foLvFi1apOvh3nvvzRf2gFsmI6N169bpToJIXDo6s29JErbCE4mU/5d9Y+JiyJAhVm5urlWuXLn8LS8vz7KFufOLAnbt2mXZN9eqWbOmZQ9HrU6dOlmPPvqo1aJFC6tdu3aWLdSthg0bWitXrnT22M369eutSy+91FqxYoVTUoCtJeh9y5cvn///Bx10kFWlSpX8MruRWE8++aRldxbOXuHA8Vq1amU1aNDA2rZtm1NagN3grW7duoX+v/FCHbVt21bXi7uOmjRpYtnDbeu5557T98x8x1a5cuUi99BufFaPHj2sMWPGOCWF8TsO99mU0U46d+5sbdy40dmjgHSpq1RC/XXv3j2/bqpXr27Zyo7zbeJs3bo1Lept6dKlgW0jUWzlwhowYIB+TzsePny4fjVs377dsjsL/RpEWO0fqOuuXbtan3zyiVNSQDLtPwjua58+fazp06c7JeESt8AHKrtx48aW3fMWEdaGHTt2WLYWpy968uTJlj1kc77ZDQ88N8ErPOkkuODBgwc7Jf7QWRx55JFWy5Yt9YNl4H/4v5ycHKtLly6hPhjcBHu4bp188smWPWR1SgugoV177bUpu1nxYuqoadOm1s6dO53S3fCZcuqJB9cPHgDuM40+CO4zD9IJJ5xgffvtt07pbuyhvVWnTh1fQZdudZUqqDuUGiMQeCYypZNLhcBv3769NXXqVP3eHg1Yc+bM0e8NsQh8Q7LtP5rCA4m2/0jQKdmjJN9OJlkSMun88ssvelh+6qmnqooVKzqlBTAkYUIG882sWbOU/WAXiaS7+OKL1YknnqjtfAcccIBTutv+9/bbb6srr7zSKfHHrlw9g3/BBReovfbayyndPTTk/wYOHKjsHlh7AoQB10yyp8MOO0wPu/zmFnAxw+Zoj2LSYshNXVJHdqMr4gttAmMYOh977LFOaQG4zXEd2FqxSQeRaIKsdKurVEHdDRo0SNnKjf78/PPPq9GjR+v3QlHskb02DY0dO1bb9Jm7SJRk2j/MmzdP/wZ5EkQqEsSVL19e3Xbbbdrs5fZYCoOEBD4uZETInXvuudqbwA0XRQNHaA8dOlTVrFnT+aYw3ACEp9dP980339TeCNj7IsHNQNDb2rZTUhiCOfgPjhcGL7zwgrr66qt1R4WA2rJli/NNYc4880zdOeBhUNIsXrxY1xH3yQu2UibWgoJemKugU432wCWTICud6iqV8AxgwzfgiYIdXigKit748eNVs2bN9NyR284fL8m0/1gVnlQliOO8EPavv/66UxIOCQl8e6ihX2vVqqVf3Xz00Ue6d65bt666/PLLnVJ/EPhVqlRxPhX473KD/CrPQEUgJOxhlB4lRIJKjrVnDYJeHpexG264QX9Gw6dB+IHvMTeZ6yhJ6JBwbbOHtPp8vODjjWfEWWed5ZQUhijI3NxcddRRRzkl/iSTICtd6qo4ID98mzZt9Hv86fHVj0cApCOMzGlfYcOzb0ZEXhjB0yaj5d5Jtv3HqvCkKkEcnUy9evV03AXnGRZxC3yELZWFMKhcubJTuhtObMyYMdqzhh7aq/27KVu2rO5BEdoGbhKjB0xFkSBkG4FPZxHUMNAcEcr08MbPNxG4pnHjxqn27dvr62GYRlmQhs910cjoJJLtaJKBEdjatWv1+e7atUv7g5uNBSfwlMDrwx304gZvCoa6bnObF9NBI7gZlflBewlKkJUudVUcoKn27t1bHX/88fozHSpaP8pDaYVnFxNMcUJn0K5du4gKISTb/mNReJJt/9FAoWYkGOaqYHELfGO/x5TChbohIARBQUViN4sEQpihlLsSuBn44EbLq/HNN99o25nXfu+GwA+IpqFGA9MR58oQy822bducd0WhkTHM+yPCupucPyYi47YWy/bAAw84e0dn+fLl+j/omDAhDB48OH/r27evbvAIdBq1FxopD0W0ujN20KAAG4iWICuWusoU8vLytEvv//73P/0Z08Xs2bP1eyFckmn/EIvCE0b7jwT70FmVqMA39nvsr2hobhD4TFBQiZhr3BAeTWfh7mnZEC5u9tlnHz2hFwnCsiPZ703Pi6CONtSKBMOwCRMmqA4dOuR3LEYI/vDDD/o1CK4rkvZGpzht2rT8sPpYNhpqrBj75X333adHUu6NtUTpaIPsl4Zy5co57/wJK0FWtLriO9qWt+34bbSxdA7FR2u766679HseZrR+lv4TwiWZ9h+rwhNW+w+CToSRQYkK/Ej2ewPC3lsBhFsTWYdWi1aH7Z2h2YIFC5xfxAY3I5r9ngeIHppRhlczj4cpU6aol19+WVWvXl3b1NhuueUW/R09dyTQLjBtlQTGfokHlTEhuIlmv4yVsBJkRasrtCgeXLeWFrQR7BStMy5JUEIIMGJ0CnRSODiUJsyzkA6bH2G1/2gKT3EliItkTYgbKw7wfcUv28/nFPDJxzef3wT5ydoPow6MqlevnmU/6E7pbvCHxcc9yC8WzH94/e8NlBHsYt/spPxY161bp4M38Il1w7nl5ORof+Eghg0bFrEOgHgDjr1hw4aYN7shO3tHJihGAfhMeaQYCnOfuY4g7Mas/ZiD2gLMmjXLskcyOniG6/UjlrrKRGztUAfpRKobITHSvf2zr7u9E4dkd0DOpwJ45pGHI0eOdEqSJy4N39jvmazFvuTFrkRVo0YNnSIWtyc/zDDIb4jDZ3pe/icI9kcj9LPf29ejXnrpJe1C+dhjjxVxCTVmpWiz5ZwDttabbrpJ+8T6Yd+MQLszPTLnFmmymP+wG6bWNmLdYk1vgEZsNyh9L7x1hGmEYWYk+yVmNbI8MlcSBCO2RBJkeYmlrjINW+jo9okXW6S6ERIj2fYfC4m2f7z94k0Q5zdKSZS4BD52ZOxJfv73wNDF2CcJfPIG1PDZ7u20YPYbTjGEQuhjP/OD/fBn5SZ67fd0It26ddOVPHHiRN/ALYJeqLxOnTppgesHnQLJqei0/GIIMFeZjonz8UIZnR0eRN45Djd4bZBRET/fWDfmTaLB/5s5Dj//Y9Ph4hscZFNkXxox5oagzpGHik7Pa7+kEwxKkOUl1rrKJLhmlAmuGzNVMn7mQlHCaP+xKDyJtH9kRjwJ4nj22MfbaSWFXUFRsRumHn6a8HA2ctfMnTvX+UVh5s2bZ9kVoffp3bu3ZWvd+rV27dqWLUyt/v37+w6nGPYQek4+DTcMgTp06FAohw/5KhjusNk3R5uJGDrZnYqzV1Fmz55t2QLbsm+2Hi55mTRpUqEcPZzvpk2b9Hc7duywWrduXSg/B+dDbiE3mKnq16+vh3PFCefXpk2bQnXEtdiNztq8ebO+Nu89ZDgadA85f3sUln/9Bu9x+A9zH7gn/D/3cNWqVc4ewZRUXZUUtG9yPJFOxBY6TmnmwHPKFjZBJg83Ybd/ZJBfSoZk2j/3n/MkXQTpNkzKkrFjx/rKwyVLlmhZFWR6SoSYBH4icIM40WnTplkzZsyw1qxZE/WmwZQpU7QQ8Nr3w4Ib2LNnT8seqTgl4UL+D3tkYK1du9YpKZ1w/vaQ2FqwYIFTEj6ZUlexgrJTq1atUBKopSMoVGxhM3DgQF8FLZUEKTxhEC1BnAFFOez5rbi9dGIFtyeG6gxrsFXavWJMgQcMhfBTNt5AYYNJiiGb3TM7JeFh16d666239DUzn1Ga4fzxqGLBDa4rbDKprmKBABoCrUaOHKn98bMJW8lSN998szaTGO8azCl465kygi3JO8P8RjrA+WBOIXVC2GDaZmU0wHTMe68rOv/9xhtvaA+gSAGs8ZIygZ8oCGJWCCIohYYSJtjnaVTkwwnVLuZAKDYTMa1bty71E3Gcf9u2bbWt0h6pOaXhkUl1FQ3mpPD9RuD7zQvFAx0lrsJMPpYWEGakWyHYiUAm5teI16FdMfmJEwZ1c/fdd+uUE+kg9FOp8MSSII41Q4gUvv76652SkLAvJu3A1jVixAi9ud2ZkoVh4cyZM0M9poGUt9juMi3dL66trAEQKUVyvGRqXfmB+QYzzsSJE0Npd4sXL9ZzSX4mgJImmkmH+43dG5u1H8xv2Np+kZTIJWHSAeZZgtblSBZMy0Fu1rSTQYMGpcRlN+00fEDjw5OG1zBNO3ieXHbZZSnRKPEAatq0qbriiiuckswAjZQAOa4vLDK1rrwwdO/cubP2wrjxxhuTbne4E5KEDQ3RawIoDRR3httkIdKWFMVDhgwp4nGYLFxnUB4wElAysua5C1tWpaXAB1yZunbtmnQ0aHFBJkRMRZkIQ07yc4dFJteVAbMELspkakzW156cLRzrkksu0ekYzjnnHOeb0kMsEfIGrtdWRp1PJUsqFJ5IEMFP5DWuu0GRxMmQtgJfEEorzBWRs4XAOjR87NTufD+RNtJCEIQzefJkbc9GuBMkxPHoRAg4LI2T3Pi+F1eG27AJW+GJRIUKFVT//v1TIuxBBL4ghAiaKZ44AwYM0CYYguXQaGPdMHfguUTOpqeffloP7Q0IQUxh6SQMY6U4M9wKweyBId95LwhCkqClspxd2DZfIMNqjx49AjXkksasztS4cWP96oasoHilzJo1yzfxIlGlpCGYM2eOjnQ3yeWAiGQ6QL8UBkJ8iMAXBCEUggQ+9nvWhcUVk9/ge++FtC0NGzbUKQ/IUuv2PReBHx5i0hEEIaVEs98TZIT5CsjBFWagkVAYEfiCIKSUZDLcCuEiAl8QhJSBQE8mw60QLiLwBUEIHSZhO3bsqBepJ50JZhvSBJAOmI0049jsK1WqpO33xBgIqUcEviBkIGjWrOtq8q7HApGw5HMPAyJJR48erWML8FhiIz8Mwp2NCVzs+uTNKhdlKUEhPETgC0KMILD69OmjI8DZcL80C8TgTmjKx48fr8v8MMcgmVoqktIBwn7UqFF6gQ4ywwaB7dwdUERU8BNPPJE2GSuF8BGBLwgxQoQrwnr58uU6BL59+/b5qx2xehmaKp4oQSsYAccgHw6L9wetJpYsRPgS6ETOnSCI6GXBd1I1GDg3stVOmDDBKREyDRH4guCB1Agk7SNdr9HaCQYCbM8tWrTQUaHuFMVEv6JN42/uXvLOD44R7TeJgnY/adIk7QsfFNHKb1555RWVk5OjUzfjJ29o1KiRzsNOOggh8xCBL2Qd2JON2QLhzoLXBjTfXr166XJytJPDho10BwZyq5DzZdGiRU6J0gtlsMCPe3F/NHhs2ETfcrwg+J37N3x2JxDjlc90MG5zC4La2MjN2hEch3QMTIwGwQiFzokEdvyn+R+gEyBnPaOEeGF0kIqFhRh5sCiSkDwi8IWsAcHGAtPDhg3TmjiCcsyYMap27dpamCJAsb+TB4ekZUErtLEQ/kUXXaQ1aSNoGRGwWpvJc4PQxe8cm/2MGTP0YhoIZy8IVlJ204kgrJkL4D1pBphA5RzxdmHRExaMoeNBK3/ttdd0RkU6ADokPGEAV0eEeVD6BX5PtCvnU7FiRX0sd4fHqIDOggnVeKHOUpHJExNYKjqSbEQEvpA1IHwR+nXr1s23nyP4WGoPEL4Iu2iZChGK2MdJjsbKXXQUBBexLJ6B9N5Vq1bNt9kjgGfPnu18WwC/wZZuBDTuiYwsDKyMhOAnRS9LhXJ+CH+Wh8SlEaFN2gHeA0t4knMnKFqV1LssqcdIhDkHbPje0QcdHSMKIfMQgS9kDaSebd68ubZRo0Uj2MuWLaszWvJ+27ZtWvgizL3buHHjnKPshlEBpg8W60AbxsPF3VGQ9505AJbIwxNm7ty5auvWrc63hSlTpozevNApIdjZl8ViOA8mexmNNGjQQHXo0EH7ud9555168ZBoIMRJYUACM+YlcJskApaRhRs6QExbQuYhAl/IGtC60cYxv+BVA2j9LLDPJCoLa/ft21dr4t6N9X3dIGiZGMVcQwfCqMEN+zRp0kTVq1dPC1m/DJLRYCTBylbsa85j/vz56v7779f2dzxx6IjoAPr166eDmyIxbdo03Tkg6DEDYbqi0zJmKQPuopKiODMRgS9kFdiwsXHn5eVp8w7C36TrJVMj3jexmDOw1WN7X7JkiVq9erXOZe9m+vTpWuvmmAhUhDK2clIERwO7OiDwSTfA8c05oY2zOMrQoUP1iIHOAAHO+RBklZubq7V2t+cNMKdAuTtXDR0cI4stW7Y4JbvBxCM288xkz3vcBkNByHAQ9tjq8VRB2GN6qVGjhv6OEQC2cNYwxQ6OFu9najGQ5vfDDz/UE6zYxd2gOZMQDEHMCADhjWmG47NcHvllcH3EnMT/sI4pAplzW7hwoXrnnXd0NCr2fzoKAqIQ6JhjWASFVbF4j3DGpo+J6owzztCdGC6kzAVgo6dTQKtn9Sw6kjp16mhPHP6HZROph3Xr1ulrp3NilMDENeYjOkUhs5B8+EJWgiBE+Pv5wyNEly5dqrV0Y3fHNNOsWTP93g1mFQQ2cwFeGE3gZYMmHeTxY+AxROCb43AO7olXjoXg51h0Itj3OX+0czoXBDZwHMw7mHwSWTeYgDI6ghEjRqRsmT2h5BCBLwgZxrJly7T7KWYfRhbxgLkIIkULC6UXseELQoZRrVo1PafAJG88MIHNhquqkJmIhi8IGQiPNXMU+Plj+okF4gpwyfQzTwmZgQh8QRCELEFMOoIgCFmCCHxBEIQsQQS+IAhCliACXxAEIUsQgS8IgpAliMAXBEHICpT6P6BgklQJDKWRAAAAAElFTkSuQmCC)\n",
        "\n",
        "The attribute with the highest IG is chosen for splitting.\n",
        "\n",
        "6. **What is the difference between Gini Impurity and Entropy?**\n",
        "\n",
        "Aspect\tGini Impurity\tEntropy\n",
        "Range\t0 (pure) to 0.5 (max impurity for 2 classes)\t0 (pure) to 1 (max impurity for 2 classes)\n",
        "Interpretation\tProbability of misclassification\tDisorder or randomness in data\n",
        "Computational cost\tLess computationally intensive\tSlightly more expensive due to log\n",
        "Usage\tOften preferred for classification due to efficiency\tPopular in information theory and classification\n",
        "\n",
        "Both give similar results but may differ in small splits.\n",
        "\n",
        "7. **What is the mathematical explanation behind Decision Trees?**\n",
        "\n",
        "Mathematically, a decision tree tries to partition the feature space into disjoint regions\n",
        "\n",
        "![7.png](data:image/png;base64,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)\n",
        "  \n",
        "  corresponding to leaf nodes such that:\n",
        "\n",
        "For classification, the goal is to minimize impurity in each region.\n",
        "\n",
        "For regression, minimize the sum of squared errors in each region.\n",
        "\n",
        "The tree grows by recursively choosing splits that optimize an impurity reduction criterion.\n",
        "\n",
        "8. **What is Pre-Pruning in Decision Trees?**\n",
        "\n",
        "Pre-Pruning (Early Stopping):\n",
        "\n",
        "The process of stopping tree growth early before it perfectly classifies the training data.\n",
        "\n",
        "Criteria to stop splitting can include:\n",
        "\n",
        "Minimum samples per node.\n",
        "\n",
        "Maximum tree depth.\n",
        "\n",
        "Minimum impurity decrease threshold.\n",
        "\n",
        "Goal: avoid overfitting by limiting tree complexity early.\n",
        "\n",
        "9. **What is Post-Pruning in Decision Trees?**\n",
        "\n",
        "Post-Pruning (Pruning after training):\n",
        "\n",
        "Grow the tree fully first (potentially overfitting).\n",
        "\n",
        "Then remove branches/nodes that do not provide a significant benefit based on a validation set or complexity penalty.\n",
        "\n",
        "Methods include:\n",
        "\n",
        "Reduced error pruning.\n",
        "\n",
        "Cost complexity pruning (e.g., weakest link pruning).\n",
        "\n",
        "Goal: improve generalization by simplifying the fully grown tree.\n",
        "\n",
        "10. **What is the difference between Pre-Pruning and Post-Pruning?**\n",
        "\n",
        "Aspect\tPre-Pruning\tPost-Pruning\n",
        "When applied\tDuring tree construction\tAfter fully grown tree\n",
        "Risk of underfitting\tHigher risk (may stop too early)\tLower risk (tree fully grown first)\n",
        "Complexity control\tLimits tree size early\tPrunes tree to reduce size\n",
        "Computational cost\tLess costly (stops early)\tMore costly (needs full tree + pruning)\n",
        "Common usage\tUsed to avoid large trees\tOften leads to better accuracy\n",
        "\n",
        "11. **What is a Decision Tree Regressor?**\n",
        "\n",
        "A Decision Tree Regressor predicts continuous values instead of classes:\n",
        "\n",
        "Instead of impurity, it uses variance reduction or mean squared error (MSE) to split nodes.\n",
        "\n",
        "At each leaf, the predicted value is usually the mean of the target values of samples in that leaf.\n",
        "\n",
        "The tree is constructed to minimize prediction error on the training set.\n",
        "\n",
        "12. **What are the advantages and disadvantages of Decision Trees?**\n",
        "\n",
        "Advantages:\n",
        "\n",
        "Easy to understand and interpret.\n",
        "\n",
        "Requires little data preprocessing (no scaling needed).\n",
        "\n",
        "Can handle both numerical and categorical data.\n",
        "\n",
        "Can model nonlinear relationships.\n",
        "\n",
        "Fast inference/prediction.\n",
        "\n",
        "Feature importance can be extracted.\n",
        "\n",
        "Disadvantages:\n",
        "\n",
        "Prone to overfitting without pruning.\n",
        "\n",
        "Small changes in data can result in different trees (high variance).\n",
        "\n",
        "Can be biased toward features with more levels.\n",
        "\n",
        "Poor generalization on small datasets.\n",
        "\n",
        "Not great for extrapolation in regression.\n",
        "\n",
        "13. **How does a Decision Tree handle missing values?**\n",
        "\n",
        "Some implementations handle missing values by:\n",
        "\n",
        "Using surrogate splits (alternative features to split when the main split is missing).\n",
        "\n",
        "Assigning the sample to the child node with the majority of data or based on probability.\n",
        "\n",
        "Imputing missing values before training.\n",
        "\n",
        "Handling missing values varies by library (e.g., CART in sklearn does not handle missing values natively).\n",
        "\n",
        "14. **How does a Decision Tree handle categorical features?**\n",
        "\n",
        "Categorical features can be handled by:\n",
        "\n",
        "Splitting based on equality checks (e.g., Feature == category).\n",
        "\n",
        "Grouping categories to maximize purity.\n",
        "\n",
        "Some algorithms convert categorical features to dummy/one-hot variables.\n",
        "\n",
        "Some advanced algorithms handle categorical splits directly by evaluating all possible partitions.\n",
        "\n",
        "15. **What are some real-world applications of Decision Trees?**\n",
        "\n",
        "Healthcare: Diagnosing diseases based on symptoms.\n",
        "\n",
        "Finance: Credit scoring and risk assessment.\n",
        "\n",
        "Marketing: Customer segmentation and churn prediction.\n",
        "\n",
        "Manufacturing: Fault detection and quality control.\n",
        "\n",
        "Retail: Product recommendation and inventory management.\n",
        "\n",
        "Natural Language Processing: Text classification.\n",
        "\n",
        "Fraud detection: Detecting suspicious activities.\n",
        "\n"
      ],
      "metadata": {
        "id": "_jonoDkAbVDF"
      }
    },
    {
      "cell_type": "code",
      "source": [
        "# Import necessary libraries\n",
        "from sklearn.datasets import load_iris, load_wine, fetch_california_housing\n",
        "from sklearn.tree import DecisionTreeClassifier, DecisionTreeRegressor, export_graphviz\n",
        "from sklearn.model_selection import train_test_split, GridSearchCV\n",
        "from sklearn.preprocessing import StandardScaler\n",
        "from sklearn.metrics import (\n",
        "    accuracy_score, mean_squared_error, precision_score,\n",
        "    recall_score, f1_score, confusion_matrix\n",
        ")\n",
        "from sklearn.multiclass import OneVsRestClassifier\n",
        "import matplotlib.pyplot as plt\n",
        "import seaborn as sns"
      ],
      "metadata": {
        "id": "YUIoN2IkcS9S"
      },
      "execution_count": 47,
      "outputs": []
    },
    {
      "cell_type": "code",
      "source": [
        "# Load datasets\n",
        "iris = load_iris()\n",
        "housing = fetch_california_housing()"
      ],
      "metadata": {
        "id": "ktk1k9Ueews-"
      },
      "execution_count": 48,
      "outputs": []
    },
    {
      "cell_type": "code",
      "source": [
        "# Split data for classification and regression tasks\n",
        "X_train, X_test, y_train, y_test = train_test_split(iris.data, iris.target, random_state=42)\n",
        "X_train_h, X_test_h, y_train_h, y_test_h = train_test_split(housing.data, housing.target, random_state=42)"
      ],
      "metadata": {
        "id": "Y-0oMwc3e04k"
      },
      "execution_count": 49,
      "outputs": []
    },
    {
      "cell_type": "code",
      "source": [
        "# 1. Default Decision Tree Classifier\n",
        "clf1 = DecisionTreeClassifier()\n",
        "clf1.fit(X_train, y_train)\n",
        "acc1 = accuracy_score(y_test, clf1.predict(X_test))"
      ],
      "metadata": {
        "id": "BjoZ03o3e6M8"
      },
      "execution_count": 50,
      "outputs": []
    },
    {
      "cell_type": "code",
      "source": [
        "# 2. Decision Tree using Gini\n",
        "clf2 = DecisionTreeClassifier(criterion='gini')\n",
        "clf2.fit(X_train, y_train)\n",
        "importances_gini = clf2.feature_importances_"
      ],
      "metadata": {
        "id": "xny37Whze9zu"
      },
      "execution_count": 52,
      "outputs": []
    },
    {
      "cell_type": "code",
      "source": [
        "# 3. Decision Tree using Entropy\n",
        "clf3 = DecisionTreeClassifier(criterion='entropy')\n",
        "clf3.fit(X_train, y_train)\n",
        "acc3 = accuracy_score(y_test, clf3.predict(X_test))"
      ],
      "metadata": {
        "id": "S6VYOCMJfAzw"
      },
      "execution_count": 53,
      "outputs": []
    },
    {
      "cell_type": "code",
      "source": [
        "# 4. Decision Tree Regressor (Full Tree)\n",
        "reg1 = DecisionTreeRegressor()\n",
        "reg1.fit(X_train_h, y_train_h)\n",
        "mse1 = mean_squared_error(y_test_h, reg1.predict(X_test_h))"
      ],
      "metadata": {
        "id": "D0bGRbYqfFOu"
      },
      "execution_count": 54,
      "outputs": []
    },
    {
      "cell_type": "code",
      "source": [
        "# 5. DOT format for Graphviz visualization\n",
        "dot_data = export_graphviz(\n",
        "    clf1, out_file=None, feature_names=iris.feature_names,\n",
        "    class_names=iris.target_names, filled=True\n",
        ")"
      ],
      "metadata": {
        "id": "f6IbHcAxfH2e"
      },
      "execution_count": 55,
      "outputs": []
    },
    {
      "cell_type": "code",
      "source": [
        "# 6. Decision Tree with max_depth=3\n",
        "clf_depth3 = DecisionTreeClassifier(max_depth=3)\n",
        "clf_depth3.fit(X_train, y_train)\n",
        "acc_depth3 = accuracy_score(y_test, clf_depth3.predict(X_test))"
      ],
      "metadata": {
        "id": "zFIebo0zfIaQ"
      },
      "execution_count": 56,
      "outputs": []
    },
    {
      "cell_type": "code",
      "source": [
        "\n",
        "# 7. Decision Tree with min_samples_split=5\n",
        "clf_split5 = DecisionTreeClassifier(min_samples_split=5)\n",
        "clf_split5.fit(X_train, y_train)\n",
        "acc_split5 = accuracy_score(y_test, clf_split5.predict(X_test))"
      ],
      "metadata": {
        "id": "lX5pr8tJfLKC"
      },
      "execution_count": 57,
      "outputs": []
    },
    {
      "cell_type": "code",
      "source": [
        "\n",
        "# 8. Feature Scaling\n",
        "scaler = StandardScaler()\n",
        "X_scaled = scaler.fit_transform(iris.data)\n",
        "X_train_s, X_test_s, y_train_s, y_test_s = train_test_split(X_scaled, iris.target, random_state=42)\n",
        "clf_scaled = DecisionTreeClassifier()\n",
        "clf_scaled.fit(X_train_s, y_train_s)\n",
        "acc_scaled = accuracy_score(y_test_s, clf_scaled.predict(X_test_s))"
      ],
      "metadata": {
        "id": "YytvNkTXfNbQ"
      },
      "execution_count": 58,
      "outputs": []
    },
    {
      "cell_type": "code",
      "source": [
        "\n",
        "# 9. One-vs-Rest Multiclass\n",
        "ovr_clf = OneVsRestClassifier(DecisionTreeClassifier())\n",
        "ovr_clf.fit(X_train, y_train)\n",
        "acc_ovr = accuracy_score(y_test, ovr_clf.predict(X_test))"
      ],
      "metadata": {
        "id": "JD6bWnwpfP2E"
      },
      "execution_count": 59,
      "outputs": []
    },
    {
      "cell_type": "code",
      "source": [
        "# 10. Feature Importance (Default Tree)\n",
        "importances_default = clf1.feature_importances_"
      ],
      "metadata": {
        "id": "c9vpZTwFfVc2"
      },
      "execution_count": 60,
      "outputs": []
    },
    {
      "cell_type": "code",
      "source": [
        "# 11. Regressor with max_depth=5\n",
        "reg_depth5 = DecisionTreeRegressor(max_depth=5)\n",
        "reg_depth5.fit(X_train_h, y_train_h)\n",
        "mse_depth5 = mean_squared_error(y_test_h, reg_depth5.predict(X_test_h))"
      ],
      "metadata": {
        "id": "-4QGci0QfXqt"
      },
      "execution_count": 61,
      "outputs": []
    },
    {
      "cell_type": "code",
      "source": [
        "# 12. Cost Complexity Pruning (first 5 alpha values)\n",
        "path = clf1.cost_complexity_pruning_path(X_train, y_train)\n",
        "ccp_alphas = path.ccp_alphas[:5]\n",
        "ccp_accuracies = []\n",
        "for alpha in ccp_alphas:\n",
        "    pruned_clf = DecisionTreeClassifier(ccp_alpha=alpha)\n",
        "    pruned_clf.fit(X_train, y_train)\n",
        "    acc = accuracy_score(y_test, pruned_clf.predict(X_test))\n",
        "    ccp_accuracies.append(acc)"
      ],
      "metadata": {
        "id": "ZioOgWIGfbOA"
      },
      "execution_count": 62,
      "outputs": []
    },
    {
      "cell_type": "code",
      "source": [
        "# 13. Precision, Recall, F1-Score\n",
        "y_pred = clf1.predict(X_test)\n",
        "precision = precision_score(y_test, y_pred, average='macro')\n",
        "recall = recall_score(y_test, y_pred, average='macro')\n",
        "f1 = f1_score(y_test, y_pred, average='macro')"
      ],
      "metadata": {
        "id": "axqaOeC6fewb"
      },
      "execution_count": 63,
      "outputs": []
    },
    {
      "cell_type": "code",
      "source": [
        "# 14. Confusion Matrix\n",
        "conf_matrix = confusion_matrix(y_test, y_pred)"
      ],
      "metadata": {
        "id": "e450IMNhfg3i"
      },
      "execution_count": 64,
      "outputs": []
    },
    {
      "cell_type": "code",
      "source": [
        "\n",
        "# 15. GridSearchCV for hyperparameter tuning\n",
        "params = {'max_depth': [1, 2, 3, None], 'min_samples_split': [2, 5, 10]}\n",
        "grid = GridSearchCV(DecisionTreeClassifier(), param_grid=params, cv=5)\n",
        "grid.fit(X_train, y_train)\n",
        "best_params = grid.best_params_\n",
        "best_score = grid.best_score_"
      ],
      "metadata": {
        "id": "gM6o7N_dfjHo"
      },
      "execution_count": 65,
      "outputs": []
    },
    {
      "cell_type": "code",
      "source": [
        "# Print results\n",
        "print(\"1. Accuracy (Default Tree):\", acc1)\n",
        "print(\"2. Feature Importances (Gini):\", importances_gini)\n",
        "print(\"3. Accuracy (Entropy Criterion):\", acc3)\n",
        "print(\"4. MSE (Housing - Full Tree):\", mse1)\n",
        "print(\"5. DOT Format Tree (Graphviz - preview):\", dot_data[:200])\n",
        "print(\"6. Accuracy (Max Depth = 3):\", acc_depth3)\n",
        "print(\"7. Accuracy (min_samples_split=5):\", acc_split5)\n",
        "print(\"8. Accuracy (with Feature Scaling):\", acc_scaled)\n",
        "print(\"9. Accuracy (One-vs-Rest Strategy):\", acc_ovr)\n",
        "print(\"10. Feature Importances (Default Tree):\", importances_default)\n",
        "print(\"11. MSE (Housing - Depth=5):\", mse_depth5)\n",
        "print(\"12. Accuracy (CCP Pruning - First 5 α values):\", ccp_accuracies)\n",
        "print(\"13. Precision:\", precision)\n",
        "print(\"14. Recall:\", recall)\n",
        "print(\"15. F1-Score:\", f1)\n",
        "print(\"16. Confusion Matrix:\\n\", conf_matrix)\n",
        "print(\"17. Best Params (GridSearchCV):\", best_params)\n",
        "print(\"18. Best Accuracy (GridSearchCV):\", best_score)"
      ],
      "metadata": {
        "colab": {
          "base_uri": "https://localhost:8080/"
        },
        "id": "wkhkLunTflpF",
        "outputId": "2b316d2a-0270-4f02-8596-930cfd1233ce"
      },
      "execution_count": 66,
      "outputs": [
        {
          "output_type": "stream",
          "name": "stdout",
          "text": [
            "1. Accuracy (Default Tree): 1.0\n",
            "2. Feature Importances (Gini): [0.         0.01787567 0.41581891 0.56630542]\n",
            "3. Accuracy (Entropy Criterion): 0.9736842105263158\n",
            "4. MSE (Housing - Full Tree): 0.5235300983647481\n",
            "5. DOT Format Tree (Graphviz - preview): digraph Tree {\n",
            "node [shape=box, style=\"filled\", color=\"black\", fontname=\"helvetica\"] ;\n",
            "edge [fontname=\"helvetica\"] ;\n",
            "0 [label=\"petal length (cm) <= 2.45\\ngini = 0.666\\nsamples = 112\\nvalue = [35, 39, \n",
            "6. Accuracy (Max Depth = 3): 1.0\n",
            "7. Accuracy (min_samples_split=5): 1.0\n",
            "8. Accuracy (with Feature Scaling): 1.0\n",
            "9. Accuracy (One-vs-Rest Strategy): 1.0\n",
            "10. Feature Importances (Default Tree): [0.01787567 0.         0.89974604 0.08237829]\n",
            "11. MSE (Housing - Depth=5): 0.526799989691142\n",
            "12. Accuracy (CCP Pruning - First 5 α values): [1.0, 1.0, 1.0, 1.0, 0.9736842105263158]\n",
            "13. Precision: 1.0\n",
            "14. Recall: 1.0\n",
            "15. F1-Score: 1.0\n",
            "16. Confusion Matrix:\n",
            " [[15  0  0]\n",
            " [ 0 11  0]\n",
            " [ 0  0 12]]\n",
            "17. Best Params (GridSearchCV): {'max_depth': None, 'min_samples_split': 2}\n",
            "18. Best Accuracy (GridSearchCV): 0.9367588932806324\n"
          ]
        }
      ]
    }
  ]
}